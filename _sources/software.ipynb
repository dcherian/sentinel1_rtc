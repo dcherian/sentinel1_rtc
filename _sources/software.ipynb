{
 "cells": [
  {
   "cell_type": "markdown",
   "id": "5433f1b8-ec5e-42ee-b4b4-0702a7c6a122",
   "metadata": {},
   "source": [
    "# Software"
   ]
  },
  {
   "cell_type": "markdown",
   "id": "d1e69ee7-2d46-4685-8ac5-4e3ba7811890",
   "metadata": {},
   "source": [
    "This page contains information about the computing environment and software packages that we will be using throughout the rest of the book."
   ]
  },
  {
   "cell_type": "markdown",
   "id": "a7136594-1fd3-4033-9520-c9d24bab5b4b",
   "metadata": {},
   "source": [
    "## Computing environment\n",
    "\n",
    "We will make use of a number of software packages that are well-suited for working with geospatial and remote sensing data. These include:`xarray`, `rioxarray`, `dask`, `geopandas`\n",
    "\n",
    "We will also be using a number of packages that are specific to working with synthetic aperture radar data and Microsoft Planetary Computer. These are: `xarray-sentinel`, `sarsen`, `planetary_computer`, `hyp3_sdk`"
   ]
  },
  {
   "cell_type": "code",
   "execution_count": 1,
   "id": "e4cbc1f0-c22b-44ff-8c45-70d3eb1ebdb8",
   "metadata": {},
   "outputs": [],
   "source": [
    "import os\n",
    "import tempfile\n",
    "import requests\n",
    "\n",
    "\n",
    "import xarray as xr\n",
    "import rioxarray as rio\n",
    "import geopandas as gpd\n",
    "from shapely.geometry import Polygon\n",
    "\n",
    "import planetary_computer\n",
    "from hyp3_sdk import HyP3\n",
    "from sarsen import apps\n",
    "import adlfs\n",
    "import pystac_client\n",
    "from pystac_client import Client\n",
    "import stackstac\n",
    "\n",
    "\n",
    "import matplotlib.pyplot as plt\n",
    "import numpy as np\n",
    "import pandas as pd\n",
    "import rich.table\n",
    "\n",
    "from IPython.display import Image"
   ]
  },
  {
   "cell_type": "markdown",
   "id": "a16be1a0-1ef6-4c78-a3be-684d23178827",
   "metadata": {},
   "source": [
    "See the specific versions of packages used below:"
   ]
  },
  {
   "cell_type": "code",
   "execution_count": 2,
   "id": "5d4e83f1-7d12-472d-a2fe-9748a0e777fd",
   "metadata": {},
   "outputs": [
    {
     "name": "stdout",
     "output_type": "stream",
     "text": [
      "planetary_computer: 0.4.7\n",
      "pandas            : 1.4.3\n",
      "adlfs             : 2022.7.0\n",
      "geopandas         : 0.11.1\n",
      "rich              : 12.5.1\n",
      "xarray            : 2022.6.0\n",
      "pystac_client     : 0.4.0\n",
      "stackstac         : 0.4.2\n",
      "numpy             : 1.21.6\n",
      "rioxarray         : 0.11.1\n",
      "sarsen            : 0.9.2\n",
      "requests          : 2.28.1\n",
      "matplotlib        : 3.5.2\n",
      "\n"
     ]
    }
   ],
   "source": [
    "%reload_ext watermark\n",
    "%watermark --iversions"
   ]
  },
  {
   "cell_type": "code",
   "execution_count": 3,
   "id": "85e6ac6f-e8ee-40b3-b138-0a4327670eec",
   "metadata": {},
   "outputs": [
    {
     "name": "stdout",
     "output_type": "stream",
     "text": [
      "Last updated: 2022-08-28T21:02:03.733253-06:00\n",
      "\n",
      "Python implementation: CPython\n",
      "Python version       : 3.10.5\n",
      "IPython version      : 8.4.0\n",
      "\n",
      "Compiler    : GCC 10.3.0\n",
      "OS          : Linux\n",
      "Release     : 5.18.10-76051810-generic\n",
      "Machine     : x86_64\n",
      "Processor   : x86_64\n",
      "CPU cores   : 16\n",
      "Architecture: 64bit\n",
      "\n"
     ]
    }
   ],
   "source": [
    "%watermark"
   ]
  },
  {
   "cell_type": "code",
   "execution_count": null,
   "id": "bd076af8-d0fb-4736-9dca-c1cf5a6f475c",
   "metadata": {},
   "outputs": [],
   "source": []
  },
  {
   "cell_type": "code",
   "execution_count": null,
   "id": "a91b4dcf-19d2-4f3d-b473-c4751f351dff",
   "metadata": {},
   "outputs": [],
   "source": []
  }
 ],
 "metadata": {
  "kernelspec": {
   "display_name": "Python 3 (ipykernel)",
   "language": "python",
   "name": "python3"
  },
  "language_info": {
   "codemirror_mode": {
    "name": "ipython",
    "version": 3
   },
   "file_extension": ".py",
   "mimetype": "text/x-python",
   "name": "python",
   "nbconvert_exporter": "python",
   "pygments_lexer": "ipython3",
   "version": "3.10.5"
  }
 },
 "nbformat": 4,
 "nbformat_minor": 5
}
